{
 "cells": [
  {
   "cell_type": "markdown",
   "id": "f330a65e",
   "metadata": {},
   "source": [
    "# Fine-tuning Dialogue Summarization\n",
    "\n",
    "In this collab, we will fine-tune the Mistral 7B model from HuggingFace using the parameter-efficient technique (PEFT) known as LoRA (Low-Rank Adaptation). This approach allows us to adapt the model for a specific task (Dialogue Summarization) while keeping computational costs low. We willl demonstrate how to apply LoRA and then evaluate the model’s performance before and after fine-tuning to highlight the improvements.\n",
    "\n",
    "Acces the code:\n",
    "https://drive.google.com/file/d/1y6eknoPtZ4rJTMTc6WFJ1rvIfoDoHz1S/view?usp=sharing\n",
    "\n",
    "\n"
   ]
  },
  {
   "cell_type": "markdown",
   "id": "c4d58937",
   "metadata": {},
   "source": []
  }
 ],
 "metadata": {
  "language_info": {
   "name": "python"
  }
 },
 "nbformat": 4,
 "nbformat_minor": 5
}
