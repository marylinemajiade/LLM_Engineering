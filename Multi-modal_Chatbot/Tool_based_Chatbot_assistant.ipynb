{
 "cells": [
  {
   "cell_type": "markdown",
   "id": "ddfa9ae6-69fe-444a-b994-8c4c5970a7ec",
   "metadata": {},
   "source": [
    "# Project - Airline AI Assistant\n",
    "\n",
    "We make an AI Customer Support assistant for an Airline enriched with custom tools. One tool for getting the ticket prices and the other tool for booking the flight.\n",
    "We create a Chatbot capable of using one tool in a single response and another capable of using multiple tools in one response."
   ]
  },
  {
   "cell_type": "code",
   "execution_count": 1,
   "id": "8b50bbe2-c0b1-49c3-9a5c-1ba7efa2bcb4",
   "metadata": {},
   "outputs": [],
   "source": [
    "# imports\n",
    "\n",
    "import os\n",
    "import json\n",
    "from dotenv import load_dotenv\n",
    "from openai import OpenAI\n",
    "import gradio as gr"
   ]
  },
  {
   "cell_type": "code",
   "execution_count": 2,
   "id": "747e8786-9da8-4342-b6c9-f5f69c2e22ae",
   "metadata": {},
   "outputs": [
    {
     "name": "stdout",
     "output_type": "stream",
     "text": [
      "OpenAI API Key exists and begins sk-proj-\n"
     ]
    }
   ],
   "source": [
    "# Initialization\n",
    "\n",
    "load_dotenv(override=True)\n",
    "\n",
    "openai_api_key = os.getenv('OPENAI_API_KEY')\n",
    "if openai_api_key:\n",
    "    print(f\"OpenAI API Key exists and begins {openai_api_key[:8]}\")\n",
    "else:\n",
    "    print(\"OpenAI API Key not set\")\n",
    "    \n",
    "MODEL = \"gpt-4o-mini\"\n",
    "openai = OpenAI()\n"
   ]
  },
  {
   "cell_type": "code",
   "execution_count": 3,
   "id": "0a521d84-d07c-49ab-a0df-d6451499ed97",
   "metadata": {},
   "outputs": [],
   "source": [
    "system_message = \"You are a helpful assistant for an Airline called FlightAI. \"\n",
    "system_message += \"Give short, courteous answers, no more than 1 sentence. \"\n",
    "system_message += \"Always be accurate. If you don't know the answer, say so.\""
   ]
  },
  {
   "cell_type": "markdown",
   "id": "81fe712f",
   "metadata": {},
   "source": [
    "history looks like this\n",
    "[\n",
    "    {\"role\": \"user\", \"content\": \"Hi\"},\n",
    "    {\"role\": \"assistant\", \"content\": \"Hello! How can I help?\"},\n",
    "    {\"role\": \"user\", \"content\": \"Tell me a joke\"},\n",
    "    {\"role\": \"assistant\", \"content\": \"Why did the chicken cross the road...\"}\n",
    "]"
   ]
  },
  {
   "cell_type": "code",
   "execution_count": 4,
   "id": "61a2a15d-b559-4844-b377-6bd5cb4949f6",
   "metadata": {
    "scrolled": true
   },
   "outputs": [
    {
     "name": "stdout",
     "output_type": "stream",
     "text": [
      "* Running on local URL:  http://127.0.0.1:7893\n",
      "* To create a public link, set `share=True` in `launch()`.\n"
     ]
    },
    {
     "data": {
      "text/html": [
       "<div><iframe src=\"http://127.0.0.1:7893/\" width=\"100%\" height=\"500\" allow=\"autoplay; camera; microphone; clipboard-read; clipboard-write;\" frameborder=\"0\" allowfullscreen></iframe></div>"
      ],
      "text/plain": [
       "<IPython.core.display.HTML object>"
      ]
     },
     "metadata": {},
     "output_type": "display_data"
    },
    {
     "data": {
      "text/plain": []
     },
     "execution_count": 4,
     "metadata": {},
     "output_type": "execute_result"
    }
   ],
   "source": [
    "# Chat interface\n",
    "def chat(message, history):\n",
    "    messages = [{\"role\": \"system\", \"content\": system_message}] + history + [{\"role\": \"user\", \"content\": message}]\n",
    "    response = openai.chat.completions.create(model=MODEL, messages=messages)\n",
    "    return response.choices[0].message.content\n",
    "\n",
    "gr.ChatInterface(fn=chat, type=\"messages\").launch()"
   ]
  },
  {
   "cell_type": "markdown",
   "id": "36bedabf-a0a7-4985-ad8e-07ed6a55a3a4",
   "metadata": {},
   "source": [
    "## Tools\n",
    "\n",
    "With tools, we can write a function, and have the LLM call that function as part of its response."
   ]
  },
  {
   "cell_type": "code",
   "execution_count": 5,
   "id": "0696acb1-0b05-4dc2-80d5-771be04f1fb2",
   "metadata": {},
   "outputs": [],
   "source": [
    "# Function for ticket prices\n",
    "# This function simulates a tool that provides ticket prices for different destinations.\n",
    "\n",
    "ticket_prices = {\"london\": \"$799\", \"paris\": \"$899\", \"tokyo\": \"$1400\", \"berlin\": \"$499\"}\n",
    "\n",
    "def get_ticket_price(destination_city):\n",
    "    print(f\"Tool get_ticket_price called for {destination_city}\")\n",
    "    city = destination_city.lower()\n",
    "    return ticket_prices.get(city, \"Unknown\")"
   ]
  },
  {
   "cell_type": "code",
   "execution_count": 6,
   "id": "80ca4e09-6287-4d3f-997d-fa6afbcf6c85",
   "metadata": {},
   "outputs": [
    {
     "name": "stdout",
     "output_type": "stream",
     "text": [
      "Tool get_ticket_price called for Berlin\n"
     ]
    },
    {
     "data": {
      "text/plain": [
       "'$499'"
      ]
     },
     "execution_count": 6,
     "metadata": {},
     "output_type": "execute_result"
    }
   ],
   "source": [
    "get_ticket_price(\"Berlin\")"
   ]
  },
  {
   "cell_type": "code",
   "execution_count": 7,
   "id": "e76acc3d",
   "metadata": {},
   "outputs": [],
   "source": [
    "# Function for booking flights\n",
    "# This function simulates a tool that books flights for a given destination.\n",
    "def book_flight(destination_city, date):\n",
    "    print(f\"Tool book_flight called for {destination_city} on {date}\")\n",
    "    city = destination_city.lower()\n",
    "    if city in ticket_prices:\n",
    "        return f\"Flight to {destination_city} on {date} booked successfully!\"\n",
    "    else:\n",
    "        return \"Booking failed: Unknown destination.\"\n"
   ]
  },
  {
   "cell_type": "code",
   "execution_count": 8,
   "id": "fefd10d5",
   "metadata": {},
   "outputs": [
    {
     "name": "stdout",
     "output_type": "stream",
     "text": [
      "Tool book_flight called for Berlin on 2023-10-01\n"
     ]
    },
    {
     "data": {
      "text/plain": [
       "'Flight to Berlin on 2023-10-01 booked successfully!'"
      ]
     },
     "execution_count": 8,
     "metadata": {},
     "output_type": "execute_result"
    }
   ],
   "source": [
    "book_flight(\"Berlin\", \"2023-10-01\")"
   ]
  },
  {
   "cell_type": "code",
   "execution_count": 9,
   "id": "4afceded-7178-4c05-8fa6-9f2085e6a344",
   "metadata": {},
   "outputs": [],
   "source": [
    "# Describe our tool functions:\n",
    "\n",
    "price_function = {\n",
    "    \"name\": \"get_ticket_price\",\n",
    "    \"description\": \"Get the price of a return ticket to the destination city. Call this whenever you need to know the ticket price, for example when a customer asks 'How much is a ticket to this city'\",\n",
    "    \"parameters\": {\n",
    "        \"type\": \"object\",\n",
    "        \"properties\": {\n",
    "            \"destination_city\": {\n",
    "                \"type\": \"string\",\n",
    "                \"description\": \"The city that the customer wants to travel to\",\n",
    "            },\n",
    "        },\n",
    "        \"required\": [\"destination_city\"],\n",
    "        \"additionalProperties\": False\n",
    "    }\n",
    "}\n",
    "\n",
    "booking_function = {\n",
    "    \"name\": \"book_flight\",\n",
    "    \"description\": \"Book a flight to the destination city on a specific date. Call this whenever a customer wants to book a flight, for example when they say 'Book me a flight to this city on this date'\",\n",
    "    \"parameters\": {\n",
    "        \"type\": \"object\",\n",
    "        \"properties\": {\n",
    "            \"destination_city\": {\n",
    "                \"type\": \"string\",\n",
    "                \"description\": \"The city that the customer wants to travel to\",\n",
    "            },\n",
    "            \"date\": {\n",
    "                \"type\": \"string\",\n",
    "                \"description\": \"The date of the flight in YYYY-MM-DD format\",\n",
    "            },\n",
    "        },\n",
    "        \"required\": [\"destination_city\", \"date\"],\n",
    "        \"additionalProperties\": False\n",
    "    }\n",
    "}"
   ]
  },
  {
   "cell_type": "code",
   "execution_count": 10,
   "id": "bdca8679-935f-4e7f-97e6-e71a4d4f228c",
   "metadata": {},
   "outputs": [],
   "source": [
    "# And this is included in a list of tools:\n",
    "\n",
    "tools = [{\"type\": \"function\", \"function\": price_function}, \n",
    "         {\"type\": \"function\", \"function\": booking_function}]"
   ]
  },
  {
   "cell_type": "markdown",
   "id": "c3d3554f-b4e3-4ce7-af6f-68faa6dd2340",
   "metadata": {},
   "source": [
    "## Getting OpenAI to use our Tools\n",
    "\n",
    "We allow OpenAI \"to call our tools\".\n",
    "\n",
    "What we actually do is give the LLM the opportunity to inform us that it wants us to run the tools."
   ]
  },
  {
   "cell_type": "markdown",
   "id": "d8152ddd",
   "metadata": {},
   "source": [
    "## Handle a single tool call message in a model response"
   ]
  },
  {
   "cell_type": "code",
   "execution_count": 11,
   "id": "ce9b0744-9c78-408d-b9df-9f6fd9ed78cf",
   "metadata": {},
   "outputs": [],
   "source": [
    "def chat(message, history):\n",
    "    messages = [{\"role\": \"system\", \"content\": system_message}] + history + [{\"role\": \"user\", \"content\": message}]\n",
    "    response = openai.chat.completions.create(model=MODEL, messages=messages, tools=tools)\n",
    "\n",
    "    if response.choices[0].finish_reason==\"tool_calls\": #stop response and call tool\n",
    "        message = response.choices[0].message #collect request to run the tool\n",
    "        if message.tool_calls[0].function.name == \"get_ticket_price\":\n",
    "            response, city = handle_tool_call_price(message)\n",
    "        elif message.tool_calls[0].function.name == \"book_flight\":\n",
    "            response, city = handle_tool_call_booking(message) #collect response from tool\n",
    "        messages.append(message)\n",
    "        messages.append(response)\n",
    "        response = openai.chat.completions.create(model=MODEL, messages=messages) #send back to LLM\n",
    "    \n",
    "    return response.choices[0].message.content"
   ]
  },
  {
   "cell_type": "code",
   "execution_count": 12,
   "id": "b0992986-ea09-4912-a076-8e5603ee631f",
   "metadata": {},
   "outputs": [],
   "source": [
    "# We have to write that function handle_tool_call:\n",
    "# The function takes a single tool call message in a model response, not muliple tool calls.\n",
    "# This function unpacks the message from the LLM, extracts the tool available, and executes the function with the provided arguments.\n",
    "\n",
    "def handle_tool_call_price(message):\n",
    "    tool_call = message.tool_calls[0]\n",
    "    arguments = json.loads(tool_call.function.arguments)\n",
    "    city = arguments.get('destination_city')\n",
    "    price = get_ticket_price(city)\n",
    "    response = {\n",
    "        \"role\": \"tool\",\n",
    "        \"content\": json.dumps({\"destination_city\": city,\"price\": price}),\n",
    "        \"tool_call_id\": tool_call.id #links the response to the tool call\n",
    "    }\n",
    "    return response, city\n",
    "\n",
    "def handle_tool_call_booking(message):\n",
    "    tool_call = message.tool_calls[0]\n",
    "    arguments = json.loads(tool_call.function.arguments)\n",
    "    city = arguments.get('destination_city')\n",
    "    date = arguments.get('date')\n",
    "    booking_response = book_flight(city, date)\n",
    "    response = {\n",
    "        \"role\": \"tool\",\n",
    "        \"content\": json.dumps({\"destination_city\": city, \"date\": date, \"booking_response\": booking_response}),\n",
    "        \"tool_call_id\": tool_call.id #links the response to the tool call\n",
    "    }\n",
    "    return response, city\n"
   ]
  },
  {
   "cell_type": "code",
   "execution_count": null,
   "id": "f4be8a71-b19e-4c2f-80df-f59ff2661f14",
   "metadata": {
    "scrolled": true
   },
   "outputs": [
    {
     "name": "stdout",
     "output_type": "stream",
     "text": [
      "* Running on local URL:  http://127.0.0.1:7894\n",
      "* To create a public link, set `share=True` in `launch()`.\n"
     ]
    },
    {
     "data": {
      "text/html": [
       "<div><iframe src=\"http://127.0.0.1:7894/\" width=\"100%\" height=\"500\" allow=\"autoplay; camera; microphone; clipboard-read; clipboard-write;\" frameborder=\"0\" allowfullscreen></iframe></div>"
      ],
      "text/plain": [
       "<IPython.core.display.HTML object>"
      ]
     },
     "metadata": {},
     "output_type": "display_data"
    },
    {
     "data": {
      "text/plain": []
     },
     "execution_count": 13,
     "metadata": {},
     "output_type": "execute_result"
    },
    {
     "name": "stdout",
     "output_type": "stream",
     "text": [
      "Tool get_ticket_price called for Berlin\n",
      "Tool book_flight called for Berlin on 2026-01-01\n"
     ]
    }
   ],
   "source": [
    "gr.ChatInterface(fn=chat, type=\"messages\").launch()"
   ]
  },
  {
   "cell_type": "markdown",
   "id": "dc4dbbc2",
   "metadata": {},
   "source": [
    "## Handle multiple tool calls message in a single response"
   ]
  },
  {
   "cell_type": "code",
   "execution_count": 14,
   "id": "82462d47-bd7c-4de5-9708-b6936a2ac616",
   "metadata": {},
   "outputs": [],
   "source": [
    "def chat_multi(message, history):\n",
    "    messages = (\n",
    "        [{\"role\": \"system\", \"content\": system_message}]\n",
    "        + history\n",
    "        + [{\"role\": \"user\", \"content\": message}]\n",
    "    )\n",
    "\n",
    "    response = openai.chat.completions.create(\n",
    "        model=MODEL,\n",
    "        messages=messages,\n",
    "        tools=tools\n",
    "    )\n",
    "    assistant_msg = response.choices[0].message\n",
    "\n",
    "    # Respond to ALL tools\n",
    "    if getattr(assistant_msg, \"tool_calls\", None):\n",
    "        tool_messages = [dispatch_tool_call(tool_call) for tool_call in assistant_msg.tool_calls]\n",
    "\n",
    "        # Append the assistant message (with tool_calls) and all tool messages\n",
    "        messages.append({\n",
    "            \"role\": \"assistant\",\n",
    "            \"content\": assistant_msg.content or \"\",\n",
    "            \"tool_calls\": assistant_msg.tool_calls\n",
    "        })\n",
    "        messages.extend(tool_messages)\n",
    "\n",
    "        # Continue the conversation so the model can use tool outputs\n",
    "        response2 = openai.chat.completions.create(\n",
    "            model=MODEL,\n",
    "            messages=messages,\n",
    "            tools=tools  # keep tools available in case the model chains more calls\n",
    "        )\n",
    "        return response2.choices[0].message.content\n",
    "\n",
    "    # No tool calls—just return the assistant’s content\n",
    "    return assistant_msg.content"
   ]
  },
  {
   "cell_type": "code",
   "execution_count": 15,
   "id": "c68a28ad",
   "metadata": {},
   "outputs": [],
   "source": [
    "def dispatch_tool_call(tool_call):\n",
    "    name = tool_call.function.name\n",
    "    arguments = json.loads(tool_call.function.arguments or \"{}\")\n",
    "\n",
    "    if name == \"get_ticket_price\":\n",
    "        city = arguments.get(\"destination_city\")\n",
    "        price = get_ticket_price(city)\n",
    "        tool_response = {\"destination_city\": city, \"price\": price}\n",
    "\n",
    "    elif name == \"book_flight\":\n",
    "        city = arguments.get(\"destination_city\")\n",
    "        date = arguments.get(\"date\")\n",
    "        booking_response = book_flight(city, date)\n",
    "        tool_response = {\"destination_city\": city, \"date\": date, \"booking_response\": booking_response}\n",
    "\n",
    "    else:\n",
    "        tool_response = {\"error\": f\"Unknown tool '{name}'\", \"arguments\": arguments}\n",
    "\n",
    "    # Tool message linked by tool_call_id\n",
    "    return {\n",
    "        \"role\": \"tool\",\n",
    "        \"tool_call_id\": tool_call.id,\n",
    "        \"content\": json.dumps(tool_response)\n",
    "    }\n",
    "\n"
   ]
  },
  {
   "cell_type": "code",
   "execution_count": 16,
   "id": "5b6cc087",
   "metadata": {},
   "outputs": [
    {
     "name": "stdout",
     "output_type": "stream",
     "text": [
      "* Running on local URL:  http://127.0.0.1:7895\n",
      "* To create a public link, set `share=True` in `launch()`.\n"
     ]
    },
    {
     "data": {
      "text/html": [
       "<div><iframe src=\"http://127.0.0.1:7895/\" width=\"100%\" height=\"500\" allow=\"autoplay; camera; microphone; clipboard-read; clipboard-write;\" frameborder=\"0\" allowfullscreen></iframe></div>"
      ],
      "text/plain": [
       "<IPython.core.display.HTML object>"
      ]
     },
     "metadata": {},
     "output_type": "display_data"
    },
    {
     "data": {
      "text/plain": []
     },
     "execution_count": 16,
     "metadata": {},
     "output_type": "execute_result"
    },
    {
     "name": "stdout",
     "output_type": "stream",
     "text": [
      "Tool get_ticket_price called for Berlin\n",
      "Tool book_flight called for Berlin on 2026-01-01\n"
     ]
    }
   ],
   "source": [
    "gr.ChatInterface(fn=chat_multi, type=\"messages\").launch()"
   ]
  }
 ],
 "metadata": {
  "kernelspec": {
   "display_name": "llms2",
   "language": "python",
   "name": "python3"
  },
  "language_info": {
   "codemirror_mode": {
    "name": "ipython",
    "version": 3
   },
   "file_extension": ".py",
   "mimetype": "text/x-python",
   "name": "python",
   "nbconvert_exporter": "python",
   "pygments_lexer": "ipython3",
   "version": "3.11.13"
  }
 },
 "nbformat": 4,
 "nbformat_minor": 5
}
