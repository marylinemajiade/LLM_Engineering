{
 "cells": [
  {
   "cell_type": "markdown",
   "id": "f330a65e",
   "metadata": {},
   "source": [
    "# Meeting minutes generator\n",
    "\n",
    "In this colab, I make a meeting minutes program.\n",
    "It generates a transcription of the meeting using the Whisper OpenAI model.\n",
    "Then pass this transcription to a quantized Llama model to generate the minutes.\n",
    "\n",
    "Acces the code:\n",
    "https://colab.research.google.com/drive/1EawAKCC_Agn-TtNup3ieUMF6ny_UzPRf?usp=sharing\n",
    "\n",
    "\n"
   ]
  }
 ],
 "metadata": {
  "language_info": {
   "name": "python"
  }
 },
 "nbformat": 4,
 "nbformat_minor": 5
}
